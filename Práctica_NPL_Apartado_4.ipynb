{
  "nbformat": 4,
  "nbformat_minor": 0,
  "metadata": {
    "colab": {
      "provenance": [],
      "collapsed_sections": [
        "MX_KtS8m2mZd",
        "KLTrUkJk9LN_"
      ]
    },
    "kernelspec": {
      "name": "python3",
      "display_name": "Python 3"
    },
    "language_info": {
      "name": "python"
    }
  },
  "cells": [
    {
      "cell_type": "markdown",
      "source": [
        "#Conclusiones"
      ],
      "metadata": {
        "id": "MX_KtS8m2mZd"
      }
    },
    {
      "cell_type": "markdown",
      "source": [
        "La siguiente tabla que se adjunta a continuación recoge las métricas más importantes de la clasificación para cada modelo."
      ],
      "metadata": {
        "id": "iZoCCwNj3inD"
      }
    },
    {
      "cell_type": "markdown",
      "source": [
        "![Comparación modelos.png](data:image/png;base64,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)"
      ],
      "metadata": {
        "id": "YPqnHS8w2iCj"
      }
    },
    {
      "cell_type": "markdown",
      "source": [
        "La primera idea que es importante tener en cuenta a la hora de realizar la comparación entre ambos modelos es que debido a la falta de recursos computacionales, el modelo LSTM no ha sido posible entrenarlo con los mismos datos que el modelo SVM. Esto claramente afecta a las métricas obtenidas ya que el número total de datos de test es distinto para cada modelo. Como consecuencia, esto afecta a las métricas ya que por ejemplo para el caso de la sensibilidad podría parecer que el primer modelo es mejor pero claro la proporción de errores divido entre el total es menor cuando se entrena un modelo con 25542 datos que con 12771. Por ello, es importante no precipitarse a la hora de extraer conclusiones de la tabla.\n",
        "\n",
        "Sin embargo, para el caso de la especificidad si que es posible afirmar que es mejor el modelo LSTM que el modelo SVM ya que aunque el total de datos entrenados no sea el mismo, la proporción entre verdaderos negativos y falsos positivos es menor. Por lo tanto, el segundo modelo es mejor a la hora de determinar un valor como verdadero negativo.\n",
        "\n",
        "Por otra parte, cabe destacar que a pesar de las limitaciones encontradas durante la práctica (desbalanceo de datos y falta de recursos computacionales), los modelos obtenidos son en mi opinión muy buenos. Al final depende del uso que se le quiera dar al modelo, pero si por ejemplo se desea categorizar correctamente aquellas reseñas que son positivas, cualquiera de los dos modelos se podría utlizar ya que sus sensibilidades son elevadas. Desde mi punto de vista, si se tiene en cuenta como se han generado los dos modelos creo que podrían ser utilizados en la vida real (siempre teniendo en cuenta las limitaciones experimentadas).\n",
        "\n",
        "Por último, como posible mejora, sería podría intentar implementar cualquiera de las dos siguientes opciones:\n",
        "\n",
        "* Primeramente, sería interesante realizar de nuevo la práctica con un corpus que no este tan desbalanceado como con el que se han generado los modelos. En la práctica, se ha decidido continuar con un corpus desbalanceado para intentar asimilar lo máximo posible la práctica a un ejercicio de la vida real y porque en DeepLearning puesto que se deben entrenar redes profundas, suele ser conveniente tener cuantos más datos mejor. En este caso si se balanceaba el corpues utilizando la técnia de undersampling se reducía el tamaño del dataset en un 70%, lo cual consideraba una pérdida bastante significativa de los datos. Es por eso que como una posible mejora sería intentar conseguir más reseñas de nota inferior a 3 con el fin de balancear el corpus.\n",
        "\n",
        "* Asimismo, la falta de recursos ha sido algo que ha impactado en el resultado de la práctica por lo que se podría intentar utilizar algún entorno con más recursos para que así se pudieran utilizar los embeddings en su totalidad. En mi opinión, creo que si se hubiera podido entrenar el modelo LSTM sin necesidad de reducir el tamaño de los embeddings a la mitad, el resultado hubiera sido parecido a los resultados del modelo o igual un poco mejor porque al final el problema del desbalanceo afecta más. Por ello, si solo se pudiera implementar una de las dos opciones, sin duda alguna, habría que intentar implementar la primera."
      ],
      "metadata": {
        "id": "uDPFuoHt3pPj"
      }
    },
    {
      "cell_type": "markdown",
      "source": [
        "# Agradecimientos"
      ],
      "metadata": {
        "id": "KLTrUkJk9LN_"
      }
    },
    {
      "cell_type": "markdown",
      "source": [
        "Para finalizar esta práctica deseo agradecer a nuestra profesora Cristina Gómez por todas las horas que ha invertido en preparar las clases, impartirlas, transmitir todos los conocimientos, resolver todas las dudas y estar pendiente de que entendamos los conceptos claves del DeepLearning. Cuando empece este módulo no sabía nada de NLP, no sabía que era y que aplicaciones podía tener. No obstante, creo que gracias a Cristina ahora tengo una noción básica de como funciona esta tecnología y de todas sus posibles aplicaciones que son innumerables. Desde mi punto de vista, el éxito de este módulo ha sido que las clases han sido dinámicas, en donde Cristina nos solicitaba el feedback constantemente. Gracias a ello, esto hacía que las clases fueran más un diálogo que un monólogo y por lo tanto, los conceptos se asimilarán más facilmente.\n",
        "\n",
        "Además, algo que yo considero que ha sido fundamental para mi aprendizaje ha sido que Cristina ha conseguido despertar en mi curiosidad por este ámbito de la inteligencia artificial. Es cierto que todavía tengo mucho que aprender, pero creo que el éxito de un profesor radica es hacer que sus alumnos quieran aprender más y en mi caso, eso es lo que ha ocurrido. Es por eso que quiero agradecer de sincero corazón a Cristina por haber impartido este módulo.\n",
        "\n",
        "Por último, agradezco también a la academia Keepcoding por haber introducido este módulo en el bootcamp, el cual creo que va a ser muy beneficioso para mi futuro."
      ],
      "metadata": {
        "id": "nYtAW-259Npn"
      }
    }
  ]
}